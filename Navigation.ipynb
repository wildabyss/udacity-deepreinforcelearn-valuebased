{
 "cells": [
  {
   "cell_type": "markdown",
   "metadata": {},
   "source": [
    "# Navigation\n",
    "\n",
    "---\n",
    "\n",
    "In this notebook, you will learn how to use the Unity ML-Agents environment for the first project of the [Deep Reinforcement Learning Nanodegree](https://www.udacity.com/course/deep-reinforcement-learning-nanodegree--nd893).\n",
    "\n",
    "### 1. Start the Environment\n",
    "\n",
    "We begin by importing some necessary packages.  If the code cell below returns an error, please revisit the project instructions to double-check that you have installed [Unity ML-Agents](https://github.com/Unity-Technologies/ml-agents/blob/master/docs/Installation.md) and [NumPy](http://www.numpy.org/)."
   ]
  },
  {
   "cell_type": "code",
   "execution_count": 1,
   "metadata": {},
   "outputs": [
    {
     "name": "stdout",
     "output_type": "stream",
     "text": [
      "Processing c:\\users\\gz73vg\\documents\\projects\\udacity reinforcement learning\\udacity-rl-navigation-proj\n",
      "Requirement already satisfied: Pillow==9.4.0 in c:\\users\\gz73vg\\appdata\\local\\programs\\python\\python310\\lib\\site-packages (from unityagents==0.4.0) (9.4.0)\n",
      "Requirement already satisfied: matplotlib==3.7.2 in c:\\users\\gz73vg\\appdata\\local\\programs\\python\\python310\\lib\\site-packages (from unityagents==0.4.0) (3.7.2)\n",
      "Requirement already satisfied: jupyter in c:\\users\\gz73vg\\appdata\\local\\programs\\python\\python310\\lib\\site-packages (from unityagents==0.4.0) (1.0.0)\n",
      "Requirement already satisfied: pytest==8.2.0 in c:\\users\\gz73vg\\appdata\\local\\programs\\python\\python310\\lib\\site-packages (from unityagents==0.4.0) (8.2.0)\n",
      "Requirement already satisfied: docopt==0.6.2 in c:\\users\\gz73vg\\appdata\\local\\programs\\python\\python310\\lib\\site-packages (from unityagents==0.4.0) (0.6.2)\n",
      "Requirement already satisfied: protobuf==3.20.3 in c:\\users\\gz73vg\\appdata\\local\\programs\\python\\python310\\lib\\site-packages (from unityagents==0.4.0) (3.20.3)\n",
      "Requirement already satisfied: grpcio==1.63.0 in c:\\users\\gz73vg\\appdata\\local\\programs\\python\\python310\\lib\\site-packages (from unityagents==0.4.0) (1.63.0)\n",
      "Requirement already satisfied: torch in c:\\users\\gz73vg\\appdata\\local\\programs\\python\\python310\\lib\\site-packages (from unityagents==0.4.0) (2.4.1)\n",
      "Requirement already satisfied: pandas==2.0.3 in c:\\users\\gz73vg\\appdata\\local\\programs\\python\\python310\\lib\\site-packages (from unityagents==0.4.0) (2.0.3)\n",
      "Requirement already satisfied: scipy==1.11.2 in c:\\users\\gz73vg\\appdata\\local\\programs\\python\\python310\\lib\\site-packages (from unityagents==0.4.0) (1.11.2)\n",
      "Requirement already satisfied: ipykernel==6.29.4 in c:\\users\\gz73vg\\appdata\\local\\programs\\python\\python310\\lib\\site-packages (from unityagents==0.4.0) (6.29.4)\n",
      "Requirement already satisfied: google==3.0.0 in c:\\users\\gz73vg\\appdata\\local\\programs\\python\\python310\\lib\\site-packages (from unityagents==0.4.0) (3.0.0)\n",
      "Requirement already satisfied: google-apputils==0.4.2 in c:\\users\\gz73vg\\appdata\\local\\programs\\python\\python310\\lib\\site-packages (from unityagents==0.4.0) (0.4.2)\n",
      "Requirement already satisfied: beautifulsoup4 in c:\\users\\gz73vg\\appdata\\local\\programs\\python\\python310\\lib\\site-packages (from google==3.0.0->unityagents==0.4.0) (4.12.3)\n",
      "Requirement already satisfied: python-dateutil>=1.4 in c:\\users\\gz73vg\\appdata\\local\\programs\\python\\python310\\lib\\site-packages (from google-apputils==0.4.2->unityagents==0.4.0) (2.9.0.post0)\n",
      "Requirement already satisfied: python-gflags>=1.4 in c:\\users\\gz73vg\\appdata\\local\\programs\\python\\python310\\lib\\site-packages (from google-apputils==0.4.2->unityagents==0.4.0) (3.1.2)\n",
      "Requirement already satisfied: pytz>=2010 in c:\\users\\gz73vg\\appdata\\local\\programs\\python\\python310\\lib\\site-packages (from google-apputils==0.4.2->unityagents==0.4.0) (2024.2)\n",
      "Requirement already satisfied: traitlets>=5.4.0 in c:\\users\\gz73vg\\appdata\\local\\programs\\python\\python310\\lib\\site-packages (from ipykernel==6.29.4->unityagents==0.4.0) (5.14.3)\n",
      "Requirement already satisfied: comm>=0.1.1 in c:\\users\\gz73vg\\appdata\\local\\programs\\python\\python310\\lib\\site-packages (from ipykernel==6.29.4->unityagents==0.4.0) (0.2.2)\n",
      "Requirement already satisfied: psutil in c:\\users\\gz73vg\\appdata\\local\\programs\\python\\python310\\lib\\site-packages (from ipykernel==6.29.4->unityagents==0.4.0) (6.0.0)\n",
      "Requirement already satisfied: debugpy>=1.6.5 in c:\\users\\gz73vg\\appdata\\local\\programs\\python\\python310\\lib\\site-packages (from ipykernel==6.29.4->unityagents==0.4.0) (1.8.6)\n",
      "Requirement already satisfied: matplotlib-inline>=0.1 in c:\\users\\gz73vg\\appdata\\local\\programs\\python\\python310\\lib\\site-packages (from ipykernel==6.29.4->unityagents==0.4.0) (0.1.7)\n",
      "Requirement already satisfied: pyzmq>=24 in c:\\users\\gz73vg\\appdata\\local\\programs\\python\\python310\\lib\\site-packages (from ipykernel==6.29.4->unityagents==0.4.0) (26.2.0)\n",
      "Requirement already satisfied: tornado>=6.1 in c:\\users\\gz73vg\\appdata\\local\\programs\\python\\python310\\lib\\site-packages (from ipykernel==6.29.4->unityagents==0.4.0) (6.4.1)\n",
      "Requirement already satisfied: nest-asyncio in c:\\users\\gz73vg\\appdata\\local\\programs\\python\\python310\\lib\\site-packages (from ipykernel==6.29.4->unityagents==0.4.0) (1.6.0)\n",
      "Requirement already satisfied: ipython>=7.23.1 in c:\\users\\gz73vg\\appdata\\local\\programs\\python\\python310\\lib\\site-packages (from ipykernel==6.29.4->unityagents==0.4.0) (8.28.0)\n",
      "Requirement already satisfied: jupyter-client>=6.1.12 in c:\\users\\gz73vg\\appdata\\local\\programs\\python\\python310\\lib\\site-packages (from ipykernel==6.29.4->unityagents==0.4.0) (8.6.3)\n",
      "Requirement already satisfied: jupyter-core!=5.0.*,>=4.12 in c:\\users\\gz73vg\\appdata\\local\\programs\\python\\python310\\lib\\site-packages (from ipykernel==6.29.4->unityagents==0.4.0) (5.7.2)\n",
      "Requirement already satisfied: packaging in c:\\users\\gz73vg\\appdata\\local\\programs\\python\\python310\\lib\\site-packages (from ipykernel==6.29.4->unityagents==0.4.0) (24.1)\n",
      "Requirement already satisfied: kiwisolver>=1.0.1 in c:\\users\\gz73vg\\appdata\\local\\programs\\python\\python310\\lib\\site-packages (from matplotlib==3.7.2->unityagents==0.4.0) (1.4.7)\n",
      "Requirement already satisfied: pyparsing<3.1,>=2.3.1 in c:\\users\\gz73vg\\appdata\\local\\programs\\python\\python310\\lib\\site-packages (from matplotlib==3.7.2->unityagents==0.4.0) (3.0.9)\n",
      "Requirement already satisfied: cycler>=0.10 in c:\\users\\gz73vg\\appdata\\local\\programs\\python\\python310\\lib\\site-packages (from matplotlib==3.7.2->unityagents==0.4.0) (0.12.1)\n",
      "Requirement already satisfied: numpy>=1.20 in c:\\users\\gz73vg\\appdata\\local\\programs\\python\\python310\\lib\\site-packages (from matplotlib==3.7.2->unityagents==0.4.0) (1.26.4)\n",
      "Requirement already satisfied: fonttools>=4.22.0 in c:\\users\\gz73vg\\appdata\\local\\programs\\python\\python310\\lib\\site-packages (from matplotlib==3.7.2->unityagents==0.4.0) (4.54.1)\n",
      "Requirement already satisfied: contourpy>=1.0.1 in c:\\users\\gz73vg\\appdata\\local\\programs\\python\\python310\\lib\\site-packages (from matplotlib==3.7.2->unityagents==0.4.0) (1.3.0)\n",
      "Requirement already satisfied: tzdata>=2022.1 in c:\\users\\gz73vg\\appdata\\local\\programs\\python\\python310\\lib\\site-packages (from pandas==2.0.3->unityagents==0.4.0) (2024.2)\n",
      "Requirement already satisfied: colorama in c:\\users\\gz73vg\\appdata\\local\\programs\\python\\python310\\lib\\site-packages (from pytest==8.2.0->unityagents==0.4.0) (0.4.6)\n",
      "Requirement already satisfied: pluggy<2.0,>=1.5 in c:\\users\\gz73vg\\appdata\\local\\programs\\python\\python310\\lib\\site-packages (from pytest==8.2.0->unityagents==0.4.0) (1.5.0)\n",
      "Requirement already satisfied: exceptiongroup>=1.0.0rc8 in c:\\users\\gz73vg\\appdata\\local\\programs\\python\\python310\\lib\\site-packages (from pytest==8.2.0->unityagents==0.4.0) (1.2.2)\n",
      "Requirement already satisfied: iniconfig in c:\\users\\gz73vg\\appdata\\local\\programs\\python\\python310\\lib\\site-packages (from pytest==8.2.0->unityagents==0.4.0) (2.0.0)\n",
      "Requirement already satisfied: tomli>=1 in c:\\users\\gz73vg\\appdata\\local\\programs\\python\\python310\\lib\\site-packages (from pytest==8.2.0->unityagents==0.4.0) (2.0.2)\n",
      "Requirement already satisfied: decorator in c:\\users\\gz73vg\\appdata\\local\\programs\\python\\python310\\lib\\site-packages (from ipython>=7.23.1->ipykernel==6.29.4->unityagents==0.4.0) (5.1.1)\n",
      "Requirement already satisfied: pygments>=2.4.0 in c:\\users\\gz73vg\\appdata\\local\\programs\\python\\python310\\lib\\site-packages (from ipython>=7.23.1->ipykernel==6.29.4->unityagents==0.4.0) (2.18.0)\n",
      "Requirement already satisfied: jedi>=0.16 in c:\\users\\gz73vg\\appdata\\local\\programs\\python\\python310\\lib\\site-packages (from ipython>=7.23.1->ipykernel==6.29.4->unityagents==0.4.0) (0.19.1)\n",
      "Requirement already satisfied: stack-data in c:\\users\\gz73vg\\appdata\\local\\programs\\python\\python310\\lib\\site-packages (from ipython>=7.23.1->ipykernel==6.29.4->unityagents==0.4.0) (0.6.3)\n",
      "Requirement already satisfied: prompt-toolkit<3.1.0,>=3.0.41 in c:\\users\\gz73vg\\appdata\\local\\programs\\python\\python310\\lib\\site-packages (from ipython>=7.23.1->ipykernel==6.29.4->unityagents==0.4.0) (3.0.48)\n",
      "Requirement already satisfied: typing-extensions>=4.6 in c:\\users\\gz73vg\\appdata\\local\\programs\\python\\python310\\lib\\site-packages (from ipython>=7.23.1->ipykernel==6.29.4->unityagents==0.4.0) (4.12.2)\n",
      "Requirement already satisfied: parso<0.9.0,>=0.8.3 in c:\\users\\gz73vg\\appdata\\local\\programs\\python\\python310\\lib\\site-packages (from jedi>=0.16->ipython>=7.23.1->ipykernel==6.29.4->unityagents==0.4.0) (0.8.4)\n",
      "Requirement already satisfied: pywin32>=300 in c:\\users\\gz73vg\\appdata\\local\\programs\\python\\python310\\lib\\site-packages (from jupyter-core!=5.0.*,>=4.12->ipykernel==6.29.4->unityagents==0.4.0) (306)\n",
      "Requirement already satisfied: platformdirs>=2.5 in c:\\users\\gz73vg\\appdata\\local\\programs\\python\\python310\\lib\\site-packages (from jupyter-core!=5.0.*,>=4.12->ipykernel==6.29.4->unityagents==0.4.0) (4.3.6)\n",
      "Requirement already satisfied: wcwidth in c:\\users\\gz73vg\\appdata\\local\\programs\\python\\python310\\lib\\site-packages (from prompt-toolkit<3.1.0,>=3.0.41->ipython>=7.23.1->ipykernel==6.29.4->unityagents==0.4.0) (0.2.13)\n",
      "Requirement already satisfied: six>=1.5 in c:\\users\\gz73vg\\appdata\\local\\programs\\python\\python310\\lib\\site-packages (from python-dateutil>=1.4->google-apputils==0.4.2->unityagents==0.4.0) (1.16.0)\n",
      "Requirement already satisfied: soupsieve>1.2 in c:\\users\\gz73vg\\appdata\\local\\programs\\python\\python310\\lib\\site-packages (from beautifulsoup4->google==3.0.0->unityagents==0.4.0) (2.6)\n",
      "Requirement already satisfied: ipywidgets in c:\\users\\gz73vg\\appdata\\local\\programs\\python\\python310\\lib\\site-packages (from jupyter->unityagents==0.4.0) (8.1.5)\n",
      "Requirement already satisfied: notebook in c:\\users\\gz73vg\\appdata\\local\\programs\\python\\python310\\lib\\site-packages (from jupyter->unityagents==0.4.0) (7.2.2)\n",
      "Requirement already satisfied: nbconvert in c:\\users\\gz73vg\\appdata\\local\\programs\\python\\python310\\lib\\site-packages (from jupyter->unityagents==0.4.0) (7.16.4)\n",
      "Requirement already satisfied: jupyter-console in c:\\users\\gz73vg\\appdata\\local\\programs\\python\\python310\\lib\\site-packages (from jupyter->unityagents==0.4.0) (6.6.3)\n",
      "Requirement already satisfied: qtconsole in c:\\users\\gz73vg\\appdata\\local\\programs\\python\\python310\\lib\\site-packages (from jupyter->unityagents==0.4.0) (5.6.0)\n",
      "Requirement already satisfied: jupyterlab-widgets~=3.0.12 in c:\\users\\gz73vg\\appdata\\local\\programs\\python\\python310\\lib\\site-packages (from ipywidgets->jupyter->unityagents==0.4.0) (3.0.13)\n",
      "Requirement already satisfied: widgetsnbextension~=4.0.12 in c:\\users\\gz73vg\\appdata\\local\\programs\\python\\python310\\lib\\site-packages (from ipywidgets->jupyter->unityagents==0.4.0) (4.0.13)\n",
      "Requirement already satisfied: nbclient>=0.5.0 in c:\\users\\gz73vg\\appdata\\local\\programs\\python\\python310\\lib\\site-packages (from nbconvert->jupyter->unityagents==0.4.0) (0.10.0)\n",
      "Requirement already satisfied: bleach!=5.0.0 in c:\\users\\gz73vg\\appdata\\local\\programs\\python\\python310\\lib\\site-packages (from nbconvert->jupyter->unityagents==0.4.0) (6.1.0)\n",
      "Requirement already satisfied: defusedxml in c:\\users\\gz73vg\\appdata\\local\\programs\\python\\python310\\lib\\site-packages (from nbconvert->jupyter->unityagents==0.4.0) (0.7.1)\n",
      "Requirement already satisfied: markupsafe>=2.0 in c:\\users\\gz73vg\\appdata\\local\\programs\\python\\python310\\lib\\site-packages (from nbconvert->jupyter->unityagents==0.4.0) (2.1.5)\n",
      "Requirement already satisfied: mistune<4,>=2.0.3 in c:\\users\\gz73vg\\appdata\\local\\programs\\python\\python310\\lib\\site-packages (from nbconvert->jupyter->unityagents==0.4.0) (3.0.2)\n",
      "Requirement already satisfied: tinycss2 in c:\\users\\gz73vg\\appdata\\local\\programs\\python\\python310\\lib\\site-packages (from nbconvert->jupyter->unityagents==0.4.0) (1.3.0)\n",
      "Requirement already satisfied: jinja2>=3.0 in c:\\users\\gz73vg\\appdata\\local\\programs\\python\\python310\\lib\\site-packages (from nbconvert->jupyter->unityagents==0.4.0) (3.1.4)\n",
      "Requirement already satisfied: jupyterlab-pygments in c:\\users\\gz73vg\\appdata\\local\\programs\\python\\python310\\lib\\site-packages (from nbconvert->jupyter->unityagents==0.4.0) (0.3.0)\n",
      "Requirement already satisfied: pandocfilters>=1.4.1 in c:\\users\\gz73vg\\appdata\\local\\programs\\python\\python310\\lib\\site-packages (from nbconvert->jupyter->unityagents==0.4.0) (1.5.1)\n",
      "Requirement already satisfied: nbformat>=5.7 in c:\\users\\gz73vg\\appdata\\local\\programs\\python\\python310\\lib\\site-packages (from nbconvert->jupyter->unityagents==0.4.0) (5.10.4)\n",
      "Requirement already satisfied: webencodings in c:\\users\\gz73vg\\appdata\\local\\programs\\python\\python310\\lib\\site-packages (from bleach!=5.0.0->nbconvert->jupyter->unityagents==0.4.0) (0.5.1)\n",
      "Requirement already satisfied: jsonschema>=2.6 in c:\\users\\gz73vg\\appdata\\local\\programs\\python\\python310\\lib\\site-packages (from nbformat>=5.7->nbconvert->jupyter->unityagents==0.4.0) (4.23.0)\n",
      "Requirement already satisfied: fastjsonschema>=2.15 in c:\\users\\gz73vg\\appdata\\local\\programs\\python\\python310\\lib\\site-packages (from nbformat>=5.7->nbconvert->jupyter->unityagents==0.4.0) (2.20.0)\n",
      "Requirement already satisfied: attrs>=22.2.0 in c:\\users\\gz73vg\\appdata\\local\\programs\\python\\python310\\lib\\site-packages (from jsonschema>=2.6->nbformat>=5.7->nbconvert->jupyter->unityagents==0.4.0) (24.2.0)\n",
      "Requirement already satisfied: referencing>=0.28.4 in c:\\users\\gz73vg\\appdata\\local\\programs\\python\\python310\\lib\\site-packages (from jsonschema>=2.6->nbformat>=5.7->nbconvert->jupyter->unityagents==0.4.0) (0.35.1)\n",
      "Requirement already satisfied: rpds-py>=0.7.1 in c:\\users\\gz73vg\\appdata\\local\\programs\\python\\python310\\lib\\site-packages (from jsonschema>=2.6->nbformat>=5.7->nbconvert->jupyter->unityagents==0.4.0) (0.20.0)\n",
      "Requirement already satisfied: jsonschema-specifications>=2023.03.6 in c:\\users\\gz73vg\\appdata\\local\\programs\\python\\python310\\lib\\site-packages (from jsonschema>=2.6->nbformat>=5.7->nbconvert->jupyter->unityagents==0.4.0) (2023.12.1)\n",
      "Requirement already satisfied: notebook-shim<0.3,>=0.2 in c:\\users\\gz73vg\\appdata\\local\\programs\\python\\python310\\lib\\site-packages (from notebook->jupyter->unityagents==0.4.0) (0.2.4)\n",
      "Requirement already satisfied: jupyterlab<4.3,>=4.2.0 in c:\\users\\gz73vg\\appdata\\local\\programs\\python\\python310\\lib\\site-packages (from notebook->jupyter->unityagents==0.4.0) (4.2.5)\n",
      "Requirement already satisfied: jupyterlab-server<3,>=2.27.1 in c:\\users\\gz73vg\\appdata\\local\\programs\\python\\python310\\lib\\site-packages (from notebook->jupyter->unityagents==0.4.0) (2.27.3)\n",
      "Requirement already satisfied: jupyter-server<3,>=2.4.0 in c:\\users\\gz73vg\\appdata\\local\\programs\\python\\python310\\lib\\site-packages (from notebook->jupyter->unityagents==0.4.0) (2.14.2)\n",
      "Requirement already satisfied: argon2-cffi>=21.1 in c:\\users\\gz73vg\\appdata\\local\\programs\\python\\python310\\lib\\site-packages (from jupyter-server<3,>=2.4.0->notebook->jupyter->unityagents==0.4.0) (23.1.0)\n",
      "Requirement already satisfied: send2trash>=1.8.2 in c:\\users\\gz73vg\\appdata\\local\\programs\\python\\python310\\lib\\site-packages (from jupyter-server<3,>=2.4.0->notebook->jupyter->unityagents==0.4.0) (1.8.3)\n",
      "Requirement already satisfied: overrides>=5.0 in c:\\users\\gz73vg\\appdata\\local\\programs\\python\\python310\\lib\\site-packages (from jupyter-server<3,>=2.4.0->notebook->jupyter->unityagents==0.4.0) (7.7.0)\n",
      "Requirement already satisfied: websocket-client>=1.7 in c:\\users\\gz73vg\\appdata\\local\\programs\\python\\python310\\lib\\site-packages (from jupyter-server<3,>=2.4.0->notebook->jupyter->unityagents==0.4.0) (1.8.0)\n",
      "Requirement already satisfied: terminado>=0.8.3 in c:\\users\\gz73vg\\appdata\\local\\programs\\python\\python310\\lib\\site-packages (from jupyter-server<3,>=2.4.0->notebook->jupyter->unityagents==0.4.0) (0.18.1)\n",
      "Requirement already satisfied: jupyter-events>=0.9.0 in c:\\users\\gz73vg\\appdata\\local\\programs\\python\\python310\\lib\\site-packages (from jupyter-server<3,>=2.4.0->notebook->jupyter->unityagents==0.4.0) (0.10.0)\n",
      "Requirement already satisfied: prometheus-client>=0.9 in c:\\users\\gz73vg\\appdata\\local\\programs\\python\\python310\\lib\\site-packages (from jupyter-server<3,>=2.4.0->notebook->jupyter->unityagents==0.4.0) (0.21.0)\n",
      "Requirement already satisfied: anyio>=3.1.0 in c:\\users\\gz73vg\\appdata\\local\\programs\\python\\python310\\lib\\site-packages (from jupyter-server<3,>=2.4.0->notebook->jupyter->unityagents==0.4.0) (4.6.0)\n",
      "Requirement already satisfied: pywinpty>=2.0.1 in c:\\users\\gz73vg\\appdata\\local\\programs\\python\\python310\\lib\\site-packages (from jupyter-server<3,>=2.4.0->notebook->jupyter->unityagents==0.4.0) (2.0.13)\n",
      "Requirement already satisfied: jupyter-server-terminals>=0.4.4 in c:\\users\\gz73vg\\appdata\\local\\programs\\python\\python310\\lib\\site-packages (from jupyter-server<3,>=2.4.0->notebook->jupyter->unityagents==0.4.0) (0.5.3)\n",
      "Requirement already satisfied: idna>=2.8 in c:\\users\\gz73vg\\appdata\\local\\programs\\python\\python310\\lib\\site-packages (from anyio>=3.1.0->jupyter-server<3,>=2.4.0->notebook->jupyter->unityagents==0.4.0) (3.10)\n",
      "Requirement already satisfied: sniffio>=1.1 in c:\\users\\gz73vg\\appdata\\local\\programs\\python\\python310\\lib\\site-packages (from anyio>=3.1.0->jupyter-server<3,>=2.4.0->notebook->jupyter->unityagents==0.4.0) (1.3.1)\n",
      "Requirement already satisfied: argon2-cffi-bindings in c:\\users\\gz73vg\\appdata\\local\\programs\\python\\python310\\lib\\site-packages (from argon2-cffi>=21.1->jupyter-server<3,>=2.4.0->notebook->jupyter->unityagents==0.4.0) (21.2.0)\n",
      "Requirement already satisfied: rfc3986-validator>=0.1.1 in c:\\users\\gz73vg\\appdata\\local\\programs\\python\\python310\\lib\\site-packages (from jupyter-events>=0.9.0->jupyter-server<3,>=2.4.0->notebook->jupyter->unityagents==0.4.0) (0.1.1)\n",
      "Requirement already satisfied: rfc3339-validator in c:\\users\\gz73vg\\appdata\\local\\programs\\python\\python310\\lib\\site-packages (from jupyter-events>=0.9.0->jupyter-server<3,>=2.4.0->notebook->jupyter->unityagents==0.4.0) (0.1.4)\n",
      "Requirement already satisfied: python-json-logger>=2.0.4 in c:\\users\\gz73vg\\appdata\\local\\programs\\python\\python310\\lib\\site-packages (from jupyter-events>=0.9.0->jupyter-server<3,>=2.4.0->notebook->jupyter->unityagents==0.4.0) (2.0.7)\n",
      "Requirement already satisfied: pyyaml>=5.3 in c:\\users\\gz73vg\\appdata\\local\\programs\\python\\python310\\lib\\site-packages (from jupyter-events>=0.9.0->jupyter-server<3,>=2.4.0->notebook->jupyter->unityagents==0.4.0) (6.0.2)\n",
      "Requirement already satisfied: uri-template in c:\\users\\gz73vg\\appdata\\local\\programs\\python\\python310\\lib\\site-packages (from jsonschema>=2.6->nbformat>=5.7->nbconvert->jupyter->unityagents==0.4.0) (1.3.0)\n",
      "Requirement already satisfied: jsonpointer>1.13 in c:\\users\\gz73vg\\appdata\\local\\programs\\python\\python310\\lib\\site-packages (from jsonschema>=2.6->nbformat>=5.7->nbconvert->jupyter->unityagents==0.4.0) (3.0.0)\n",
      "Requirement already satisfied: isoduration in c:\\users\\gz73vg\\appdata\\local\\programs\\python\\python310\\lib\\site-packages (from jsonschema>=2.6->nbformat>=5.7->nbconvert->jupyter->unityagents==0.4.0) (20.11.0)\n",
      "Requirement already satisfied: fqdn in c:\\users\\gz73vg\\appdata\\local\\programs\\python\\python310\\lib\\site-packages (from jsonschema>=2.6->nbformat>=5.7->nbconvert->jupyter->unityagents==0.4.0) (1.5.1)\n",
      "Requirement already satisfied: webcolors>=24.6.0 in c:\\users\\gz73vg\\appdata\\local\\programs\\python\\python310\\lib\\site-packages (from jsonschema>=2.6->nbformat>=5.7->nbconvert->jupyter->unityagents==0.4.0) (24.8.0)\n",
      "Requirement already satisfied: jupyter-lsp>=2.0.0 in c:\\users\\gz73vg\\appdata\\local\\programs\\python\\python310\\lib\\site-packages (from jupyterlab<4.3,>=4.2.0->notebook->jupyter->unityagents==0.4.0) (2.2.5)\n",
      "Requirement already satisfied: setuptools>=40.1.0 in c:\\users\\gz73vg\\appdata\\local\\programs\\python\\python310\\lib\\site-packages (from jupyterlab<4.3,>=4.2.0->notebook->jupyter->unityagents==0.4.0) (57.4.0)\n",
      "Requirement already satisfied: async-lru>=1.0.0 in c:\\users\\gz73vg\\appdata\\local\\programs\\python\\python310\\lib\\site-packages (from jupyterlab<4.3,>=4.2.0->notebook->jupyter->unityagents==0.4.0) (2.0.4)\n",
      "Requirement already satisfied: httpx>=0.25.0 in c:\\users\\gz73vg\\appdata\\local\\programs\\python\\python310\\lib\\site-packages (from jupyterlab<4.3,>=4.2.0->notebook->jupyter->unityagents==0.4.0) (0.27.2)\n",
      "Requirement already satisfied: certifi in c:\\users\\gz73vg\\appdata\\local\\programs\\python\\python310\\lib\\site-packages (from httpx>=0.25.0->jupyterlab<4.3,>=4.2.0->notebook->jupyter->unityagents==0.4.0) (2024.8.30)\n",
      "Requirement already satisfied: httpcore==1.* in c:\\users\\gz73vg\\appdata\\local\\programs\\python\\python310\\lib\\site-packages (from httpx>=0.25.0->jupyterlab<4.3,>=4.2.0->notebook->jupyter->unityagents==0.4.0) (1.0.6)\n",
      "Requirement already satisfied: h11<0.15,>=0.13 in c:\\users\\gz73vg\\appdata\\local\\programs\\python\\python310\\lib\\site-packages (from httpcore==1.*->httpx>=0.25.0->jupyterlab<4.3,>=4.2.0->notebook->jupyter->unityagents==0.4.0) (0.14.0)\n",
      "Requirement already satisfied: json5>=0.9.0 in c:\\users\\gz73vg\\appdata\\local\\programs\\python\\python310\\lib\\site-packages (from jupyterlab-server<3,>=2.27.1->notebook->jupyter->unityagents==0.4.0) (0.9.25)\n",
      "Requirement already satisfied: babel>=2.10 in c:\\users\\gz73vg\\appdata\\local\\programs\\python\\python310\\lib\\site-packages (from jupyterlab-server<3,>=2.27.1->notebook->jupyter->unityagents==0.4.0) (2.16.0)\n",
      "Requirement already satisfied: requests>=2.31 in c:\\users\\gz73vg\\appdata\\local\\programs\\python\\python310\\lib\\site-packages (from jupyterlab-server<3,>=2.27.1->notebook->jupyter->unityagents==0.4.0) (2.32.3)\n",
      "Requirement already satisfied: urllib3<3,>=1.21.1 in c:\\users\\gz73vg\\appdata\\local\\programs\\python\\python310\\lib\\site-packages (from requests>=2.31->jupyterlab-server<3,>=2.27.1->notebook->jupyter->unityagents==0.4.0) (2.2.3)\n",
      "Requirement already satisfied: charset-normalizer<4,>=2 in c:\\users\\gz73vg\\appdata\\local\\programs\\python\\python310\\lib\\site-packages (from requests>=2.31->jupyterlab-server<3,>=2.27.1->notebook->jupyter->unityagents==0.4.0) (3.3.2)\n",
      "Requirement already satisfied: cffi>=1.0.1 in c:\\users\\gz73vg\\appdata\\local\\programs\\python\\python310\\lib\\site-packages (from argon2-cffi-bindings->argon2-cffi>=21.1->jupyter-server<3,>=2.4.0->notebook->jupyter->unityagents==0.4.0) (1.17.1)\n",
      "Requirement already satisfied: pycparser in c:\\users\\gz73vg\\appdata\\local\\programs\\python\\python310\\lib\\site-packages (from cffi>=1.0.1->argon2-cffi-bindings->argon2-cffi>=21.1->jupyter-server<3,>=2.4.0->notebook->jupyter->unityagents==0.4.0) (2.22)\n",
      "Requirement already satisfied: arrow>=0.15.0 in c:\\users\\gz73vg\\appdata\\local\\programs\\python\\python310\\lib\\site-packages (from isoduration->jsonschema>=2.6->nbformat>=5.7->nbconvert->jupyter->unityagents==0.4.0) (1.3.0)\n",
      "Requirement already satisfied: types-python-dateutil>=2.8.10 in c:\\users\\gz73vg\\appdata\\local\\programs\\python\\python310\\lib\\site-packages (from arrow>=0.15.0->isoduration->jsonschema>=2.6->nbformat>=5.7->nbconvert->jupyter->unityagents==0.4.0) (2.9.0.20241003)\n",
      "Requirement already satisfied: qtpy>=2.4.0 in c:\\users\\gz73vg\\appdata\\local\\programs\\python\\python310\\lib\\site-packages (from qtconsole->jupyter->unityagents==0.4.0) (2.4.1)\n",
      "Requirement already satisfied: pure-eval in c:\\users\\gz73vg\\appdata\\local\\programs\\python\\python310\\lib\\site-packages (from stack-data->ipython>=7.23.1->ipykernel==6.29.4->unityagents==0.4.0) (0.2.3)\n",
      "Requirement already satisfied: asttokens>=2.1.0 in c:\\users\\gz73vg\\appdata\\local\\programs\\python\\python310\\lib\\site-packages (from stack-data->ipython>=7.23.1->ipykernel==6.29.4->unityagents==0.4.0) (2.4.1)\n",
      "Requirement already satisfied: executing>=1.2.0 in c:\\users\\gz73vg\\appdata\\local\\programs\\python\\python310\\lib\\site-packages (from stack-data->ipython>=7.23.1->ipykernel==6.29.4->unityagents==0.4.0) (2.1.0)\n",
      "Requirement already satisfied: fsspec in c:\\users\\gz73vg\\appdata\\local\\programs\\python\\python310\\lib\\site-packages (from torch->unityagents==0.4.0) (2024.9.0)\n",
      "Requirement already satisfied: filelock in c:\\users\\gz73vg\\appdata\\local\\programs\\python\\python310\\lib\\site-packages (from torch->unityagents==0.4.0) (3.16.1)\n",
      "Requirement already satisfied: sympy in c:\\users\\gz73vg\\appdata\\local\\programs\\python\\python310\\lib\\site-packages (from torch->unityagents==0.4.0) (1.13.3)\n",
      "Requirement already satisfied: networkx in c:\\users\\gz73vg\\appdata\\local\\programs\\python\\python310\\lib\\site-packages (from torch->unityagents==0.4.0) (3.3)\n",
      "Requirement already satisfied: mpmath<1.4,>=1.1.0 in c:\\users\\gz73vg\\appdata\\local\\programs\\python\\python310\\lib\\site-packages (from sympy->torch->unityagents==0.4.0) (1.3.0)\n",
      "Using legacy 'setup.py install' for unityagents, since package 'wheel' is not installed.\n",
      "Installing collected packages: unityagents\n",
      "  Attempting uninstall: unityagents\n",
      "    Found existing installation: unityagents 0.4.0\n",
      "    Uninstalling unityagents-0.4.0:\n",
      "      Successfully uninstalled unityagents-0.4.0\n",
      "    Running setup.py install for unityagents: started\n",
      "    Running setup.py install for unityagents: finished with status 'done'\n",
      "Successfully installed unityagents-0.4.0\n"
     ]
    },
    {
     "name": "stderr",
     "output_type": "stream",
     "text": [
      "  DEPRECATION: A future pip version will change local packages to be built in-place without first copying to a temporary directory. We recommend you use --use-feature=in-tree-build to test your packages with this new behavior before it becomes the default.\n",
      "   pip 21.3 will remove support for this functionality. You can find discussion regarding this at https://github.com/pypa/pip/issues/7555.\n",
      "WARNING: You are using pip version 21.2.3; however, version 24.2 is available.\n",
      "You should consider upgrading via the 'C:\\Users\\GZ73VG\\AppData\\Local\\Programs\\Python\\Python310\\python.exe -m pip install --upgrade pip' command.\n"
     ]
    }
   ],
   "source": [
    "# Restart kernel after this\n",
    "!pip310 install ."
   ]
  },
  {
   "cell_type": "code",
   "execution_count": 2,
   "metadata": {},
   "outputs": [],
   "source": [
    "from unityagents import UnityEnvironment\n",
    "import numpy as np"
   ]
  },
  {
   "cell_type": "markdown",
   "metadata": {},
   "source": [
    "Next, we will start the environment!  **_Before running the code cell below_**, change the `file_name` parameter to match the location of the Unity environment that you downloaded.\n",
    "\n",
    "- **Mac**: `\"path/to/Banana.app\"`\n",
    "- **Windows** (x86): `\"path/to/Banana_Windows_x86/Banana.exe\"`\n",
    "- **Windows** (x86_64): `\"path/to/Banana_Windows_x86_64/Banana.exe\"`\n",
    "- **Linux** (x86): `\"path/to/Banana_Linux/Banana.x86\"`\n",
    "- **Linux** (x86_64): `\"path/to/Banana_Linux/Banana.x86_64\"`\n",
    "- **Linux** (x86, headless): `\"path/to/Banana_Linux_NoVis/Banana.x86\"`\n",
    "- **Linux** (x86_64, headless): `\"path/to/Banana_Linux_NoVis/Banana.x86_64\"`\n",
    "\n",
    "For instance, if you are using a Mac, then you downloaded `Banana.app`.  If this file is in the same folder as the notebook, then the line below should appear as follows:\n",
    "```\n",
    "env = UnityEnvironment(file_name=\"Banana.app\")\n",
    "```"
   ]
  },
  {
   "cell_type": "code",
   "execution_count": 3,
   "metadata": {},
   "outputs": [
    {
     "name": "stderr",
     "output_type": "stream",
     "text": [
      "INFO:unityagents:\n",
      "'Academy' started successfully!\n",
      "Unity Academy name: Academy\n",
      "        Number of Brains: 1\n",
      "        Number of External Brains : 1\n",
      "        Lesson number : 0\n",
      "        Reset Parameters :\n",
      "\t\t\n",
      "Unity brain name: BananaBrain\n",
      "        Number of Visual Observations (per agent): 0\n",
      "        Vector Observation space type: continuous\n",
      "        Vector Observation space size (per agent): 37\n",
      "        Number of stacked Vector Observation: 1\n",
      "        Vector Action space type: discrete\n",
      "        Vector Action space size (per agent): 4\n",
      "        Vector Action descriptions: , , , \n"
     ]
    }
   ],
   "source": [
    "env = UnityEnvironment(file_name=\"Banana_Windows_x86_64/Banana.exe\", no_graphics=True, seed=30)"
   ]
  },
  {
   "cell_type": "markdown",
   "metadata": {},
   "source": [
    "Environments contain **_brains_** which are responsible for deciding the actions of their associated agents. Here we check for the first brain available, and set it as the default brain we will be controlling from Python."
   ]
  },
  {
   "cell_type": "code",
   "execution_count": 4,
   "metadata": {},
   "outputs": [],
   "source": [
    "# get the default brain\n",
    "brain_name = env.brain_names[0]\n",
    "brain = env.brains[brain_name]"
   ]
  },
  {
   "cell_type": "markdown",
   "metadata": {},
   "source": [
    "### 2. Examine the State and Action Spaces\n",
    "\n",
    "The simulation contains a single agent that navigates a large environment.  At each time step, it has four actions at its disposal:\n",
    "- `0` - walk forward \n",
    "- `1` - walk backward\n",
    "- `2` - turn left\n",
    "- `3` - turn right\n",
    "\n",
    "The state space has `37` dimensions and contains the agent's velocity, along with ray-based perception of objects around agent's forward direction.  A reward of `+1` is provided for collecting a yellow banana, and a reward of `-1` is provided for collecting a blue banana. \n",
    "\n",
    "Run the code cell below to print some information about the environment."
   ]
  },
  {
   "cell_type": "code",
   "execution_count": 5,
   "metadata": {},
   "outputs": [
    {
     "name": "stdout",
     "output_type": "stream",
     "text": [
      "Number of agents: 1\n",
      "Number of actions: 4\n",
      "States look like: [0.         0.         1.         0.         0.05489779 1.\n",
      " 0.         0.         0.         0.2886712  1.         0.\n",
      " 0.         0.         0.33970422 0.         0.         1.\n",
      " 0.         0.05648908 0.         1.         0.         0.\n",
      " 0.54536796 0.         0.         1.         0.         0.24240446\n",
      " 0.         1.         0.         0.         0.49427128 0.\n",
      " 0.        ]\n",
      "States have length: 37\n"
     ]
    }
   ],
   "source": [
    "# reset the environment\n",
    "env_info = env.reset(train_mode=True)[brain_name]\n",
    "\n",
    "# number of agents in the environment\n",
    "print('Number of agents:', len(env_info.agents))\n",
    "\n",
    "# number of actions\n",
    "action_size = brain.vector_action_space_size\n",
    "print('Number of actions:', action_size)\n",
    "\n",
    "# examine the state space \n",
    "state = env_info.vector_observations[0]\n",
    "print('States look like:', state)\n",
    "state_size = len(state)\n",
    "print('States have length:', state_size)"
   ]
  },
  {
   "cell_type": "markdown",
   "metadata": {},
   "source": [
    "### 3. Take Random Actions in the Environment\n",
    "\n",
    "In the next code cell, you will learn how to use the Python API to control the agent and receive feedback from the environment.\n",
    "\n",
    "Once this cell is executed, you will watch the agent's performance, if it selects an action (uniformly) at random with each time step.  A window should pop up that allows you to observe the agent, as it moves through the environment.  \n",
    "\n",
    "Of course, as part of the project, you'll have to change the code so that the agent is able to use its experience to gradually choose better actions when interacting with the environment!"
   ]
  },
  {
   "cell_type": "code",
   "execution_count": 6,
   "metadata": {},
   "outputs": [],
   "source": [
    "SKIP_RANDOM = True\n",
    "\n",
    "if not SKIP_RANDOM:\n",
    "\n",
    "    env_info = env.reset(train_mode=False)[brain_name] # reset the environment\n",
    "    state = env_info.vector_observations[0]            # get the current state\n",
    "    score = 0                                          # initialize the score\n",
    "    while True:\n",
    "        action = np.random.randint(action_size)        # select an action\n",
    "        env_info = env.step(action)[brain_name]        # send the action to the environment\n",
    "        next_state = env_info.vector_observations[0]   # get the next state\n",
    "        reward = env_info.rewards[0]                   # get the reward\n",
    "        done = env_info.local_done[0]                  # see if episode has finished\n",
    "        score += reward                                # update the score\n",
    "        state = next_state                             # roll over the state to next time step\n",
    "        if done:                                       # exit loop if episode finished\n",
    "            break\n",
    "        \n",
    "    print(\"Score: {}\".format(score))"
   ]
  },
  {
   "cell_type": "markdown",
   "metadata": {},
   "source": [
    "### 4. Train Agent"
   ]
  },
  {
   "cell_type": "code",
   "execution_count": 7,
   "metadata": {},
   "outputs": [],
   "source": [
    "from collections import deque\n",
    "import torch\n",
    "from learner.dqn_agent import Agent\n",
    "import matplotlib.pyplot as plt\n",
    "%matplotlib inline"
   ]
  },
  {
   "cell_type": "code",
   "execution_count": 8,
   "metadata": {},
   "outputs": [],
   "source": [
    "# Global hyperparameters\n",
    "\n",
    "BUFFER_SIZE = int(1e5)          # replay buffer size\n",
    "BATCH_SIZE = 64                 # replay minibatch size\n",
    "GAMMA = 0.99                    # discount factor in TD control\n",
    "TAU = 1e-3                      # for soft update of target parameters\n",
    "LR = 5e-4                       # learning rate \n",
    "UPDATE_EVERY = 4                # how often to update the network\n",
    "\n",
    "EPS_START = 1.0                 # Starting exploration factor\n",
    "EPS_END = 0.01                  # Ending exploration factor\n",
    "EPS_DECAY = 0.995               # Rate of anealing of exploration factor\n",
    "\n",
    "USE_DOUBLE_Q = True             # Whether to use Double DQN\n",
    "USE_PRIORITIZED_REPLAY = False  # Whether to use prioritized replay (enabling it can be slow for large BUFFER_SIZE)\n",
    "PRIORITIZED_REPLAY_ALPHA = 0.5  # Power to the prioritized replay probability\n",
    "\n",
    "N_EPISODES = 2000               # Max number of training episodes\n",
    "MAX_T = 1000                    # Max number of actions per episode\n",
    "VICTORY_SCORE = 20              # Threshold of score's running average for ending training"
   ]
  },
  {
   "cell_type": "code",
   "execution_count": 9,
   "metadata": {},
   "outputs": [
    {
     "name": "stdout",
     "output_type": "stream",
     "text": [
      "Episode 0\tAverage Score: -1.00\n",
      "Episode 100\tAverage Score: 0.60\n",
      "Episode 200\tAverage Score: 3.35\n",
      "Episode 300\tAverage Score: 6.32\n"
     ]
    }
   ],
   "source": [
    "agent = Agent(state_size=state_size, action_size=action_size, seed=0, \n",
    "              replay_buffer_size=BUFFER_SIZE, replay_batch_size=BATCH_SIZE, update_every=UPDATE_EVERY, target_gamma=GAMMA, update_tau=TAU, lr=LR,\n",
    "              use_double_q = USE_DOUBLE_Q, use_priorized_replay = USE_PRIORITIZED_REPLAY, prioritized_replay_alpha=PRIORITIZED_REPLAY_ALPHA)\n",
    "\n",
    "scores = []                        # list containing scores from each episode\n",
    "scores_window = deque(maxlen=100)  # last 100 scores\n",
    "eps = EPS_START                    # initialize epsilon\n",
    "\n",
    "for i_episode in range(N_EPISODES):\n",
    "    env_info = env.reset(train_mode=True)[brain_name]\n",
    "    state = env_info.vector_observations[0]\n",
    "    score = 0\n",
    "\n",
    "    for t in range(MAX_T):\n",
    "        # Get agent's action per policy\n",
    "        action = agent.act(state, eps)\n",
    "\n",
    "        # Apply agent's action to env\n",
    "        env_info = env.step(action)[brain_name]\n",
    "        next_state = env_info.vector_observations[0]   # get the next state\n",
    "        reward = env_info.rewards[0]                   # get the reward\n",
    "        done = env_info.local_done[0]                  # see if episode has finished\n",
    "\n",
    "        # Agent remembers and learns\n",
    "        agent.step(state, action, reward, next_state, done)\n",
    "\n",
    "        state = next_state\n",
    "        score += reward\n",
    "        if done:\n",
    "            break\n",
    "\n",
    "    scores_window.append(score)       # save most recent score\n",
    "    scores.append(score)              # save most recent score\n",
    "    eps = max(EPS_END, EPS_DECAY*eps) # decrease epsilon\n",
    "\n",
    "    if i_episode % 100 == 0:\n",
    "        print('\\rEpisode {}\\tAverage Score: {:.2f}'.format(i_episode, np.mean(scores_window)))\n",
    "\n",
    "    if np.mean(scores_window) >= VICTORY_SCORE:\n",
    "        print('\\nEnvironment solved in {:d} episodes!\\tAverage Score: {:.2f}'.format(i_episode-100, np.mean(scores_window)))\n",
    "        torch.save(agent.qnetwork_local.state_dict(), 'trained_weights/model.pt')\n",
    "        break\n",
    "\n",
    "\n",
    "# plot the scores\n",
    "fig = plt.figure()\n",
    "ax = fig.add_subplot(111)\n",
    "plt.plot(np.arange(len(scores)), scores)\n",
    "plt.ylabel('Score')\n",
    "plt.xlabel('Episode #')\n",
    "plt.savefig('plots/DoubleDQNScores.png')\n",
    "\n",
    "env.close()"
   ]
  },
  {
   "cell_type": "markdown",
   "metadata": {},
   "source": [
    "### 4. Watch the Smart Agent\n",
    "\n",
    "Restart kernel if running this right after training to reload Unity."
   ]
  },
  {
   "cell_type": "code",
   "execution_count": 1,
   "metadata": {},
   "outputs": [
    {
     "name": "stderr",
     "output_type": "stream",
     "text": [
      "INFO:unityagents:\n",
      "'Academy' started successfully!\n",
      "Unity Academy name: Academy\n",
      "        Number of Brains: 1\n",
      "        Number of External Brains : 1\n",
      "        Lesson number : 0\n",
      "        Reset Parameters :\n",
      "\t\t\n",
      "Unity brain name: BananaBrain\n",
      "        Number of Visual Observations (per agent): 0\n",
      "        Vector Observation space type: continuous\n",
      "        Vector Observation space size (per agent): 37\n",
      "        Number of stacked Vector Observation: 1\n",
      "        Vector Action space type: discrete\n",
      "        Vector Action space size (per agent): 4\n",
      "        Vector Action descriptions: , , , \n",
      "W:\\Temp\\ipykernel_7976\\626284948.py:14: FutureWarning: You are using `torch.load` with `weights_only=False` (the current default value), which uses the default pickle module implicitly. It is possible to construct malicious pickle data which will execute arbitrary code during unpickling (See https://github.com/pytorch/pytorch/blob/main/SECURITY.md#untrusted-models for more details). In a future release, the default value for `weights_only` will be flipped to `True`. This limits the functions that could be executed during unpickling. Arbitrary objects will no longer be allowed to be loaded via this mode unless they are explicitly allowlisted by the user via `torch.serialization.add_safe_globals`. We recommend you start setting `weights_only=True` for any use case where you don't have full control of the loaded file. Please open an issue on GitHub for any issues related to this experimental feature.\n",
      "  agent.qnetwork_local.load_state_dict(torch.load('trained_weights/model.pt'))\n"
     ]
    },
    {
     "name": "stdout",
     "output_type": "stream",
     "text": [
      "Total Score: 12.00\n"
     ]
    }
   ],
   "source": [
    "from unityagents import UnityEnvironment\n",
    "from learner.dqn_agent import Agent\n",
    "import torch\n",
    "\n",
    "env = UnityEnvironment(file_name=\"Banana_Windows_x86_64/Banana.exe\", no_graphics=False, worker_id = 1, seed = 42)\n",
    "brain_name = env.brain_names[0]\n",
    "brain = env.brains[brain_name]\n",
    "env_info = env.reset(train_mode=False)[brain_name]\n",
    "state = env_info.vector_observations[0]\n",
    "\n",
    "action_size = brain.vector_action_space_size\n",
    "state_size = len(env_info.vector_observations[0])\n",
    "agent = Agent(state_size=state_size, action_size=action_size, use_double_q=True)\n",
    "agent.qnetwork_local.load_state_dict(torch.load('trained_weights/model.pt'))\n",
    "\n",
    "score = 0\n",
    "for j in range(1000):\n",
    "    action = agent.act(state)\n",
    "    env_info = env.step(action)[brain_name]\n",
    "    state = env_info.vector_observations[0]\n",
    "    done = env_info.local_done[0]\n",
    "    score += env_info.rewards[0]\n",
    "    if done:\n",
    "        break \n",
    "            \n",
    "print('\\rTotal Score: {:.2f}'.format(score))\n",
    "env.close()"
   ]
  }
 ],
 "metadata": {
  "kernelspec": {
   "display_name": "Python 3 (ipykernel)",
   "language": "python",
   "name": "python3"
  },
  "language_info": {
   "codemirror_mode": {
    "name": "ipython",
    "version": 3
   },
   "file_extension": ".py",
   "mimetype": "text/x-python",
   "name": "python",
   "nbconvert_exporter": "python",
   "pygments_lexer": "ipython3",
   "version": "3.10.0rc2"
  }
 },
 "nbformat": 4,
 "nbformat_minor": 2
}
